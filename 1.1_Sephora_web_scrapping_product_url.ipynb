{
 "cells": [
  {
   "cell_type": "code",
   "execution_count": 1,
   "id": "fd48f3b6",
   "metadata": {},
   "outputs": [],
   "source": [
    "import pandas as pd\n",
    "import numpy as np\n",
    "import math"
   ]
  },
  {
   "cell_type": "code",
   "execution_count": 2,
   "id": "5f29e128",
   "metadata": {},
   "outputs": [],
   "source": [
    "import requests\n",
    "import time\n",
    "from selenium import webdriver\n",
    "from selenium.webdriver.common.keys import Keys\n",
    "from selenium.webdriver.common.by import By\n",
    "from selenium.webdriver.support.ui import WebDriverWait\n",
    "from selenium.webdriver.support import expected_conditions as EC\n",
    "from selenium.common.exceptions import TimeoutException\n",
    "import chromedriver_binary"
   ]
  },
  {
   "cell_type": "markdown",
   "id": "2153b6aa",
   "metadata": {},
   "source": [
    "# 1. Data Collection"
   ]
  },
  {
   "cell_type": "markdown",
   "id": "4e863c7f",
   "metadata": {},
   "source": [
    "## 1.1 Sephora web scrapping to extract product's urls"
   ]
  },
  {
   "cell_type": "markdown",
   "id": "ffc17b3e",
   "metadata": {},
   "source": [
    "1.\tFirst of all, I need to generate a list of product’s url to retrieve information from. Basically, when we enter Sephora’s website, we’ll need to i. look under ‘Skincare’ to locate all the categories, ii. click on the specific category to get to the list of products, and iii. click on the specific products to retrieve product's information such as \n",
    "2.  Sephora because it uses Lazy Load which doenst load until the users scroll down on the page, this is very important to use the scrollDown function below instead of the built-in function inside WebDriver. The scrolldown funtion was found at: https://www.hackerearth.com/fr/practice/notes/praveen97uma/crawling-a-website-that-loads-content-using-javascript-with-selenium-webdriver-in-python/\n",
    "3. To install chromedriver_binary in terminal, use this chromedriver-binary-auto will detect your current Chrome version and install the compatible chromedriver version: pip install --upgrade --force-reinstall chromedriver-binary-auto\n",
    "4. Webdriver opens a new windown on your computer which will be controlled by the code and this browser has to remain open while the code is running\n",
    "5. Credit this tutorial for web scrapping, which I followed pretty much step by step\n",
    "7. Since the nature of webs-scrapping heavily depends on the website' features and implementation, any changes to the site after Dec 2021 will  require some tuning of this code. \n",
    "8. The xpath and CSS-Class for the products were hard-coded as ['css-1o0t476', 'css-1h1spyg'], it seemed that the first class was added recently to contain new and seasonal products (less than 5% of the total products). If reusing this code, one has to pay special attention to the website's feature changes to make sure that\n",
    "it works"
   ]
  },
  {
   "cell_type": "markdown",
   "id": "5d626a10",
   "metadata": {},
   "source": [
    "### 1.1.1 Functions"
   ]
  },
  {
   "cell_type": "code",
   "execution_count": null,
   "id": "123a20f3",
   "metadata": {},
   "outputs": [],
   "source": [
    "#this code creates a function that gets the browser to scroll down\n",
    "def scrollDown(driver, n_scroll):\n",
    "    body = driver.find_element(By.TAG_NAME ,\"body\")\n",
    "    while n_scroll >= 0:\n",
    "        body.send_keys(Keys.PAGE_DOWN)\n",
    "        n_scroll -= 1\n",
    "    return driver\n",
    "\n",
    "#driver.execute_script(\"window.scrollTo(0, document.body.scrollHeight);\") # scroll to the bottom of the page"
   ]
  },
  {
   "cell_type": "code",
   "execution_count": null,
   "id": "8d998807",
   "metadata": {},
   "outputs": [],
   "source": [
    "#this code closes the sign-in pop-up window\n",
    "def close_sign_in(driver):\n",
    "    xpath = '//*[@id=\"modalDialog\"]/button'\n",
    "    btn = driver.find_element(By. XPATH, xpath)\n",
    "    btn.click()\n",
    "    time.sleep(10)"
   ]
  },
  {
   "cell_type": "code",
   "execution_count": null,
   "id": "06f79300",
   "metadata": {},
   "outputs": [],
   "source": [
    "#this function openes a new browwer, extracts all url per page and returns the CF with all the information\n",
    "def extract_products_url(url, cSS_Class, class_code, current_page, cat):\n",
    "    driver = webdriver.Chrome()\n",
    "    driver.get(url)    \n",
    "    time.sleep(40) # let the page load\n",
    "        \n",
    "    browser = scrollDown(driver, 15) #scroll down the page\n",
    "    time.sleep(20) # let the whole page load\n",
    "    \n",
    "    try:\n",
    "        elements = WebDriverWait(driver, 60).until(\n",
    "            EC.visibility_of_all_elements_located((By.XPATH, cSS_Class))\n",
    "        )\n",
    "    except TimeoutException:\n",
    "        print(\"Timed out waiting for page to load\")\n",
    "        driver.quit()\n",
    "            \n",
    "    url_per_page = pd.DataFrame({'category': [cat for i in range(len(elements))],\n",
    "                    'CSS-class': [class_code for j in range(len(elements))],\n",
    "                    'page': [current_page+1 for k in range(len(elements))], \n",
    "                    'url': [element.get_attribute('href') for element in elements]})\n",
    "    driver.close()\n",
    "    \n",
    "    return url_per_page"
   ]
  },
  {
   "cell_type": "markdown",
   "id": "4677f94d",
   "metadata": {},
   "source": [
    "### 1.1.2 Skincare product categories"
   ]
  },
  {
   "cell_type": "markdown",
   "id": "8aede4d5",
   "metadata": {},
   "source": [
    "1. Moisturizers: 'moisturizing-cream-oils-mists' 697 products\n",
    "2. Cleansers: 'cleanser' 414 products\n",
    "3. Treatments: 'facial-treatments' 533 products\n",
    "4. Masks: 'face-mask' 209 products\n",
    "5. Eye treatment: 'eye-treatment-dark-circle-treatment' 197 products\n",
    "6. Lip Balms & Treatments: 'lip-balm-lip-care' 164 products\n",
    "7. Sunscreen: 'sunscreen-sun-protection' 155 products\n",
    "\n",
    "8. Vegan: 'vegan-skin-care' 803 products (overlapping with previous categories, vegan label isnt always included on the product's highlights) \n",
    "9. Clean: 'clean-skin-care' 1106 products (overlapping with previous categories, clean label included in the product's highlights, so we wont have to scrap this category\n"
   ]
  },
  {
   "cell_type": "code",
   "execution_count": null,
   "id": "ecc6dbfc",
   "metadata": {},
   "outputs": [],
   "source": [
    "#this list contains different skin care categories and their number of products\n",
    "categories = {'moisturizing-cream-oils-mists': 697,\n",
    "             'cleanser': 414,\n",
    "             'facial-treatments': 533,\n",
    "              'face-mask': 209,\n",
    "             'eye-treatment-dark-circle-treatment': 197,\n",
    "              'lip-balm-lip-care': 164,\n",
    "             'sunscreen-sun-protection': 155,\n",
    "             'vegan-skin-care': 803}\n",
    "\n",
    "\n",
    "cat_CSSClass = ['css-1o0t476', 'css-1h1spyg'] \n",
    "\n",
    "products_per_page = 100\n",
    "\n",
    "#looping through all skincare categories\n",
    "for cat, num_prods in categories.items():\n",
    "    print(cat + '\\t' + str(math.ceil(num_prods/products_per_page)))"
   ]
  },
  {
   "cell_type": "markdown",
   "id": "1eb6f220",
   "metadata": {},
   "source": [
    "### 1.1.3 \"css-1o0t476\": New and seasonal items\n",
    "One complete, inspect the specific links to make sure it's a real product and not a promotional link"
   ]
  },
  {
   "cell_type": "code",
   "execution_count": null,
   "id": "71eb9a82",
   "metadata": {},
   "outputs": [],
   "source": [
    "current_page = 1\n",
    "\n",
    "products_url1 =pd.DataFrame() #DF holing all extracted info\n",
    "\n",
    "for cat, num_prods in categories.items():\n",
    "    print(cat)\n",
    "    \n",
    "    # category url\n",
    "    url = 'https://www.sephora.com/shop/' + cat + '?pageSize=' + str(60) + '&currentPage=' + str(current_page)\n",
    "            \n",
    "    url_per_page = extract_products_url(url, '//div[@class = \"css-1o0t476\"]//a', \"css-1o0t476\", current_page, cat)\n",
    "        \n",
    "    #append new page to the main DF\n",
    "    products_url1 = products_url1.append(url_per_page, ignore_index = True)\n",
    "    \n",
    "print(products_url1.shape[0])"
   ]
  },
  {
   "cell_type": "markdown",
   "id": "c507a868",
   "metadata": {},
   "source": [
    "### 1.1.4 \"css-1h1spyg\": Majority of the products"
   ]
  },
  {
   "cell_type": "code",
   "execution_count": null,
   "id": "b73c8399",
   "metadata": {},
   "outputs": [],
   "source": [
    "products_url2 =pd.DataFrame()\n",
    "\n",
    "for cat, num_prods in categories.items():\n",
    "    no_pages = math.ceil(num_prods/products_per_page)\n",
    "    for current_page in range(no_pages):\n",
    "        print(cat + '\\t current page ' + str(current_page+1))\n",
    "    \n",
    "        # category url\n",
    "        url = 'https://www.sephora.com/shop/' + cat + '?pageSize=' + str(products_per_page) + '&currentPage=' + str(current_page+1)\n",
    "    \n",
    "        url_per_page = extract_products_url(url, '//div[@class = \"css-1h1spyg\"]//a',\"css-1h1spyg\", current_page, cat)\n",
    "        \n",
    "        #append new page to the main DF\n",
    "        products_url2 = products_url2.append(url_per_page, ignore_index = True)\n",
    "    \n",
    "print(len(elements))"
   ]
  },
  {
   "cell_type": "code",
   "execution_count": null,
   "id": "e66f3af0",
   "metadata": {},
   "outputs": [],
   "source": [
    "# concatenate the 2 CSS-class\n",
    "products_url_final = products_url1.append(products_url2, ignore_index = True)"
   ]
  },
  {
   "cell_type": "code",
   "execution_count": null,
   "id": "aee61727",
   "metadata": {},
   "outputs": [],
   "source": [
    "# print to csv_file\n",
    "products_url_final.to_csv(path_or_buf= 'Raw_data/products_url_sephora.csv', header = True)"
   ]
  },
  {
   "cell_type": "code",
   "execution_count": null,
   "id": "fce94605",
   "metadata": {},
   "outputs": [],
   "source": [
    "# note: if cant fix the extract function, revert back to this version\n",
    "# products_url2 =pd.DataFrame()\n",
    "\n",
    "# for cat, num_prods in categories.items():\n",
    "#     no_pages = math.ceil(num_prods/products_per_page)\n",
    "#     for current_page in range(no_pages):\n",
    "#         print(cat + '\\t current page ' + str(current_page+1))\n",
    "    \n",
    "#         # category url\n",
    "#         url = 'https://www.sephora.com/shop/' + cat + '?pageSize=' + str(products_per_page) + '&currentPage=' + str(current_page+1)\n",
    "    \n",
    "#         driver = webdriver.Chrome()\n",
    "#         driver.get(url)    \n",
    "#         time.sleep(40) # let the page load\n",
    "        \n",
    "#         browser = scrollDown(driver, 15) #scroll down the page\n",
    "#         time.sleep(20) # let the whole page load\n",
    "    \n",
    "#         try:\n",
    "#             elements = WebDriverWait(driver, 60).until(\n",
    "#                 EC.visibility_of_all_elements_located((By.XPATH, '//div[@class = \"css-1h1spyg\"]//a'))\n",
    "#             )\n",
    "#         except TimeoutException:\n",
    "#             print(\"Timed out waiting for page to load\")\n",
    "#             driver.quit()\n",
    "            \n",
    "#         url_per_page = pd.DataFrame({'category': [cat for i in range(len(elements))],\n",
    "#                     'CSS-class': [\"css-1h1spyg\" for j in range(len(elements))],\n",
    "#                     'page': [current_page+1 for k in range(len(elements))], \n",
    "#                     'url': [element.get_attribute('href') for element in elements]})\n",
    "#         driver.close()\n",
    "    \n",
    "#         #append new page to the main DF\n",
    "#         products_url2 = products_url2.append(url_per_page, ignore_index = True)\n",
    "    \n",
    "# print(len(elements))"
   ]
  },
  {
   "cell_type": "code",
   "execution_count": null,
   "id": "31cc9e84",
   "metadata": {},
   "outputs": [],
   "source": [
    "#this is a working code but using find_element_by_class_name only returns the product price,\n",
    "# driver = webdriver.Chrome()\n",
    "\n",
    "# driver.get(url)\n",
    "# print(driver.title)\n",
    "\n",
    "# time.sleep(20)\n",
    "# driver.execute_script(\"window.scrollTo(0, document.body.scrollHeight);\")\n",
    "\n",
    "# time.sleep(20)\n",
    "# elements = driver.find_elements(By.CLASS_NAME, \"css-1o0t476\")\n",
    "\n",
    "# product_url = [ele.get_attribute('href') for ele in elements]\n",
    "# print(len(elements))\n",
    "# print(elements.text)\n",
    "# driver.close()"
   ]
  },
  {
   "cell_type": "markdown",
   "id": "94bf378d",
   "metadata": {},
   "source": [
    "### 1.1.5 Extract product's information from url"
   ]
  },
  {
   "cell_type": "code",
   "execution_count": 6,
   "id": "b630fb16",
   "metadata": {},
   "outputs": [],
   "source": [
    "# import list of url, n = 3059\n",
    "data = pd.read_csv('Raw_data/products_url_sephora.csv', index_col = 0)"
   ]
  },
  {
   "cell_type": "code",
   "execution_count": 41,
   "id": "bbd9fe0f",
   "metadata": {},
   "outputs": [
    {
     "data": {
      "text/html": [
       "<div>\n",
       "<style scoped>\n",
       "    .dataframe tbody tr th:only-of-type {\n",
       "        vertical-align: middle;\n",
       "    }\n",
       "\n",
       "    .dataframe tbody tr th {\n",
       "        vertical-align: top;\n",
       "    }\n",
       "\n",
       "    .dataframe thead th {\n",
       "        text-align: right;\n",
       "    }\n",
       "</style>\n",
       "<table border=\"1\" class=\"dataframe\">\n",
       "  <thead>\n",
       "    <tr style=\"text-align: right;\">\n",
       "      <th></th>\n",
       "      <th>category</th>\n",
       "      <th>CSS-class</th>\n",
       "      <th>url</th>\n",
       "      <th>classification</th>\n",
       "      <th>sku</th>\n",
       "    </tr>\n",
       "  </thead>\n",
       "  <tbody>\n",
       "    <tr>\n",
       "      <th>0</th>\n",
       "      <td>moisturizing-cream-oils-mists</td>\n",
       "      <td>css-1o0t476</td>\n",
       "      <td>https://www.sephora.com/product/ultra-repair-c...</td>\n",
       "      <td>product</td>\n",
       "      <td>1217744</td>\n",
       "    </tr>\n",
       "    <tr>\n",
       "      <th>1</th>\n",
       "      <td>moisturizing-cream-oils-mists</td>\n",
       "      <td>css-1o0t476</td>\n",
       "      <td>https://www.sephora.com/product/water-drench-h...</td>\n",
       "      <td>product</td>\n",
       "      <td>1898550</td>\n",
       "    </tr>\n",
       "    <tr>\n",
       "      <th>2</th>\n",
       "      <td>moisturizing-cream-oils-mists</td>\n",
       "      <td>css-1o0t476</td>\n",
       "      <td>https://www.sephora.com/product/ceramidin-tm-c...</td>\n",
       "      <td>product</td>\n",
       "      <td>2077840</td>\n",
       "    </tr>\n",
       "    <tr>\n",
       "      <th>3</th>\n",
       "      <td>moisturizing-cream-oils-mists</td>\n",
       "      <td>css-1o0t476</td>\n",
       "      <td>https://www.sephora.com/product/ultra-facial-c...</td>\n",
       "      <td>product</td>\n",
       "      <td>2172526</td>\n",
       "    </tr>\n",
       "    <tr>\n",
       "      <th>4</th>\n",
       "      <td>moisturizing-cream-oils-mists</td>\n",
       "      <td>css-1o0t476</td>\n",
       "      <td>https://www.sephora.com/product/confidence-in-...</td>\n",
       "      <td>product</td>\n",
       "      <td>1868256</td>\n",
       "    </tr>\n",
       "  </tbody>\n",
       "</table>\n",
       "</div>"
      ],
      "text/plain": [
       "                        category    CSS-class  \\\n",
       "0  moisturizing-cream-oils-mists  css-1o0t476   \n",
       "1  moisturizing-cream-oils-mists  css-1o0t476   \n",
       "2  moisturizing-cream-oils-mists  css-1o0t476   \n",
       "3  moisturizing-cream-oils-mists  css-1o0t476   \n",
       "4  moisturizing-cream-oils-mists  css-1o0t476   \n",
       "\n",
       "                                                 url classification      sku  \n",
       "0  https://www.sephora.com/product/ultra-repair-c...        product  1217744  \n",
       "1  https://www.sephora.com/product/water-drench-h...        product  1898550  \n",
       "2  https://www.sephora.com/product/ceramidin-tm-c...        product  2077840  \n",
       "3  https://www.sephora.com/product/ultra-facial-c...        product  2172526  \n",
       "4  https://www.sephora.com/product/confidence-in-...        product  1868256  "
      ]
     },
     "execution_count": 41,
     "metadata": {},
     "output_type": "execute_result"
    }
   ],
   "source": [
    "data.head()"
   ]
  },
  {
   "cell_type": "code",
   "execution_count": 24,
   "id": "a978c513",
   "metadata": {},
   "outputs": [
    {
     "data": {
      "text/plain": [
       "'https://www.sephora.com/product/ultra-repair-cream-intense-hydration-P248407?skuId=1217744'"
      ]
     },
     "execution_count": 24,
     "metadata": {},
     "output_type": "execute_result"
    }
   ],
   "source": [
    "data['url'][0]"
   ]
  },
  {
   "cell_type": "code",
   "execution_count": 73,
   "id": "765e311f",
   "metadata": {},
   "outputs": [],
   "source": [
    "# extract product names, classification, P_id (not sure what it is yet), sku from url\n",
    "temp = data['url'].str.split('/')\n",
    "data['classification'] = [row[3] for row in temp] #classification from url\n",
    "\n",
    "temp2 = [row[4].split('?') for row in temp]\n",
    "data['sku'] = [row[1].split('=')[1] for row in temp2] #product sku\n",
    "data['p_id'] = [row[0].split('-')[-1] for row in temp2]\n",
    "data['product_name'] = ['-'.join(row[0].split('-')[:-1]) for row in temp2]"
   ]
  },
  {
   "cell_type": "code",
   "execution_count": 74,
   "id": "c85597fa",
   "metadata": {},
   "outputs": [],
   "source": [
    "# filter out non-product urls, n = 3052\n",
    "product = data[ data['classification'] == 'product']"
   ]
  },
  {
   "cell_type": "code",
   "execution_count": 75,
   "id": "dd4bd988",
   "metadata": {},
   "outputs": [
    {
     "data": {
      "text/html": [
       "<div>\n",
       "<style scoped>\n",
       "    .dataframe tbody tr th:only-of-type {\n",
       "        vertical-align: middle;\n",
       "    }\n",
       "\n",
       "    .dataframe tbody tr th {\n",
       "        vertical-align: top;\n",
       "    }\n",
       "\n",
       "    .dataframe thead th {\n",
       "        text-align: right;\n",
       "    }\n",
       "</style>\n",
       "<table border=\"1\" class=\"dataframe\">\n",
       "  <thead>\n",
       "    <tr style=\"text-align: right;\">\n",
       "      <th></th>\n",
       "      <th>category</th>\n",
       "      <th>CSS-class</th>\n",
       "      <th>url</th>\n",
       "      <th>classification</th>\n",
       "      <th>sku</th>\n",
       "      <th>p_id</th>\n",
       "      <th>product_name</th>\n",
       "    </tr>\n",
       "  </thead>\n",
       "  <tbody>\n",
       "    <tr>\n",
       "      <th>0</th>\n",
       "      <td>moisturizing-cream-oils-mists</td>\n",
       "      <td>css-1o0t476</td>\n",
       "      <td>https://www.sephora.com/product/ultra-repair-c...</td>\n",
       "      <td>product</td>\n",
       "      <td>1217744</td>\n",
       "      <td>P248407</td>\n",
       "      <td>ultra-repair-cream-intense-hydration</td>\n",
       "    </tr>\n",
       "    <tr>\n",
       "      <th>1</th>\n",
       "      <td>moisturizing-cream-oils-mists</td>\n",
       "      <td>css-1o0t476</td>\n",
       "      <td>https://www.sephora.com/product/water-drench-h...</td>\n",
       "      <td>product</td>\n",
       "      <td>1898550</td>\n",
       "      <td>P415701</td>\n",
       "      <td>water-drench-hyaluronic-cloud-cream</td>\n",
       "    </tr>\n",
       "    <tr>\n",
       "      <th>2</th>\n",
       "      <td>moisturizing-cream-oils-mists</td>\n",
       "      <td>css-1o0t476</td>\n",
       "      <td>https://www.sephora.com/product/ceramidin-tm-c...</td>\n",
       "      <td>product</td>\n",
       "      <td>2077840</td>\n",
       "      <td>P434363</td>\n",
       "      <td>ceramidin-tm-cream</td>\n",
       "    </tr>\n",
       "    <tr>\n",
       "      <th>3</th>\n",
       "      <td>moisturizing-cream-oils-mists</td>\n",
       "      <td>css-1o0t476</td>\n",
       "      <td>https://www.sephora.com/product/ultra-facial-c...</td>\n",
       "      <td>product</td>\n",
       "      <td>2172526</td>\n",
       "      <td>P421996</td>\n",
       "      <td>ultra-facial-cream</td>\n",
       "    </tr>\n",
       "    <tr>\n",
       "      <th>4</th>\n",
       "      <td>moisturizing-cream-oils-mists</td>\n",
       "      <td>css-1o0t476</td>\n",
       "      <td>https://www.sephora.com/product/confidence-in-...</td>\n",
       "      <td>product</td>\n",
       "      <td>1868256</td>\n",
       "      <td>P411403</td>\n",
       "      <td>confidence-in-cream-transforming-moisturizing-...</td>\n",
       "    </tr>\n",
       "  </tbody>\n",
       "</table>\n",
       "</div>"
      ],
      "text/plain": [
       "                        category    CSS-class  \\\n",
       "0  moisturizing-cream-oils-mists  css-1o0t476   \n",
       "1  moisturizing-cream-oils-mists  css-1o0t476   \n",
       "2  moisturizing-cream-oils-mists  css-1o0t476   \n",
       "3  moisturizing-cream-oils-mists  css-1o0t476   \n",
       "4  moisturizing-cream-oils-mists  css-1o0t476   \n",
       "\n",
       "                                                 url classification      sku  \\\n",
       "0  https://www.sephora.com/product/ultra-repair-c...        product  1217744   \n",
       "1  https://www.sephora.com/product/water-drench-h...        product  1898550   \n",
       "2  https://www.sephora.com/product/ceramidin-tm-c...        product  2077840   \n",
       "3  https://www.sephora.com/product/ultra-facial-c...        product  2172526   \n",
       "4  https://www.sephora.com/product/confidence-in-...        product  1868256   \n",
       "\n",
       "      p_id                                       product_name  \n",
       "0  P248407               ultra-repair-cream-intense-hydration  \n",
       "1  P415701                water-drench-hyaluronic-cloud-cream  \n",
       "2  P434363                                 ceramidin-tm-cream  \n",
       "3  P421996                                 ultra-facial-cream  \n",
       "4  P411403  confidence-in-cream-transforming-moisturizing-...  "
      ]
     },
     "execution_count": 75,
     "metadata": {},
     "output_type": "execute_result"
    }
   ],
   "source": [
    "product.head()"
   ]
  },
  {
   "cell_type": "code",
   "execution_count": 76,
   "id": "379dcd8a",
   "metadata": {},
   "outputs": [],
   "source": [
    "# print to csv_file\n",
    "product.to_csv(path_or_buf= 'Raw_data/products_url_with_name_sephora.csv', header = True)"
   ]
  },
  {
   "cell_type": "code",
   "execution_count": null,
   "id": "bdd48e76",
   "metadata": {},
   "outputs": [],
   "source": []
  },
  {
   "cell_type": "code",
   "execution_count": null,
   "id": "4979c5c7",
   "metadata": {},
   "outputs": [],
   "source": []
  }
 ],
 "metadata": {
  "kernelspec": {
   "display_name": "Python 3",
   "language": "python",
   "name": "python3"
  },
  "language_info": {
   "codemirror_mode": {
    "name": "ipython",
    "version": 3
   },
   "file_extension": ".py",
   "mimetype": "text/x-python",
   "name": "python",
   "nbconvert_exporter": "python",
   "pygments_lexer": "ipython3",
   "version": "3.8.8"
  }
 },
 "nbformat": 4,
 "nbformat_minor": 5
}
